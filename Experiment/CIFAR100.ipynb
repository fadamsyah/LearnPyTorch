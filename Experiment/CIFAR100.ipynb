{
 "cells": [
  {
   "cell_type": "code",
   "execution_count": 1,
   "metadata": {},
   "outputs": [],
   "source": [
    "import numpy as np\n",
    "import matplotlib.pyplot as plt\n",
    "\n",
    "import torch\n",
    "import torch.nn as nn\n",
    "import torch.nn.functional as F\n",
    "import torch.optim as optim\n",
    "import torch.backends.cudnn as cudnn\n",
    "\n",
    "import torchvision\n",
    "import torchvision.transforms as transforms\n",
    "from torchvision.utils import save_image\n",
    "\n",
    "from utils import OptimOneCycleLR\n",
    "\n",
    "%matplotlib inline"
   ]
  },
  {
   "cell_type": "markdown",
   "metadata": {},
   "source": [
    "# ResNet Model"
   ]
  },
  {
   "cell_type": "markdown",
   "metadata": {},
   "source": [
    "## Residual Block"
   ]
  },
  {
   "cell_type": "code",
   "execution_count": 2,
   "metadata": {},
   "outputs": [],
   "source": [
    "class ResBlock(nn.Module):\n",
    "    def __init__(self, channels_in, channels_out, stride=1):\n",
    "        super(ResBlock, self).__init__()\n",
    "        self.conv1 = nn.Conv2d(channels_in, channels_out, kernel_size=3, stride=stride, padding=1, bias=False)\n",
    "        self.bn1 = nn.BatchNorm2d(channels_out)\n",
    "        self.conv2 = nn.Conv2d(channels_out, channels_out, kernel_size=3, stride=1, padding=1, bias=False)\n",
    "        self.bn2 = nn.BatchNorm2d(channels_out)\n",
    "        \n",
    "        self.shortcut = None\n",
    "        if channels_in != channels_out:\n",
    "            self.shortcut = nn.Sequential(\n",
    "                nn.Conv2d(channels_in, channels_out, kernel_size=1, stride=stride, bias=False),\n",
    "                nn.BatchNorm2d(channels_out),\n",
    "            )\n",
    "    \n",
    "    def forward(self, x):\n",
    "        shct = x\n",
    "        if self.shortcut is not None: shct = self.shortcut(shct)\n",
    "        x = self.conv1(x)\n",
    "        x = self.bn1(x)\n",
    "        x = F.relu(x)\n",
    "        x = self.conv2(x)\n",
    "        x = self.bn2(x)\n",
    "        x += shct\n",
    "        x = F.relu(x)\n",
    "        return x"
   ]
  },
  {
   "cell_type": "markdown",
   "metadata": {},
   "source": [
    "## ResNet Class"
   ]
  },
  {
   "cell_type": "code",
   "execution_count": 3,
   "metadata": {},
   "outputs": [],
   "source": [
    "class ResNetShallow(nn.Module):\n",
    "    def __init__(self, first_channels, num_blocks, num_classes):\n",
    "        super(ResNetShallow, self).__init__()\n",
    "        self.channels = first_channels\n",
    "        \n",
    "        self.conv1 = nn.Conv2d(3, self.channels, kernel_size=3, stride=1, padding=1, bias=False)\n",
    "        self.bn1 = nn.BatchNorm2d(self.channels)\n",
    "        self.layer1 = self._make_layer(num_blocks[0], False)\n",
    "        self.layer2 = self._make_layer(num_blocks[1], True)\n",
    "        self.layer3 = self._make_layer(num_blocks[2], True)\n",
    "        self.layer4 = self._make_layer(num_blocks[3], True)\n",
    "        self.avgpool = nn.AdaptiveAvgPool2d((1,1))\n",
    "        self.dropout = nn.Dropout(0.4)\n",
    "        self.fc = nn.Linear(self.channels, num_classes)\n",
    "        \n",
    "    def _make_layer(self, num_blocks, downsample=True):\n",
    "        layers = []\n",
    "        for i in range(num_blocks):\n",
    "            if i==0 and downsample:\n",
    "                layers.append(ResBlock(self.channels, self.channels*2, 2))\n",
    "                self.channels *= 2\n",
    "            else:\n",
    "                layers.append(ResBlock(self.channels, self.channels, 1))\n",
    "        return nn.Sequential(*layers)\n",
    "    \n",
    "    def forward(self, x):\n",
    "        x = self.conv1(x)\n",
    "        x = self.bn1(x)\n",
    "        x = F.relu(x)\n",
    "        \n",
    "        x = self.layer1(x)\n",
    "        x = self.layer2(x)\n",
    "        x = self.layer3(x)\n",
    "        x = self.layer4(x)\n",
    "        \n",
    "        x = self.avgpool(x)\n",
    "        x = x.reshape(x.shape[0], -1)\n",
    "        \n",
    "        x = self.dropout(x)\n",
    "        x = self.fc(x)\n",
    "        \n",
    "        return x"
   ]
  },
  {
   "cell_type": "code",
   "execution_count": 4,
   "metadata": {},
   "outputs": [],
   "source": [
    "def ResNet18(first_channels, num_classes):\n",
    "    return ResNetShallow(first_channels, [2, 2, 2, 2], num_classes)\n",
    "\n",
    "def ResNet34(first_channels, num_classes):\n",
    "    return ResNetShallow(first_channels, [3, 4, 6, 3], num_classes)"
   ]
  },
  {
   "cell_type": "markdown",
   "metadata": {},
   "source": [
    "# Dataset"
   ]
  },
  {
   "cell_type": "code",
   "execution_count": 5,
   "metadata": {},
   "outputs": [],
   "source": [
    "transform_train = transforms.Compose([\n",
    "    transforms.RandomCrop(32, padding=2),\n",
    "    transforms.RandomHorizontalFlip(p=0.5),\n",
    "    transforms.ColorJitter(brightness=0.5),\n",
    "    transforms.RandomAffine(degrees=10., scale=(0.9,1.1)),\n",
    "    transforms.ToTensor(),\n",
    "    transforms.Normalize((0.5070754 , 0.48655024, 0.44091907), (0.26733398, 0.25643876, 0.2761503))\n",
    "])\n",
    "\n",
    "transform_test = transforms.Compose([\n",
    "    transforms.ToTensor(),\n",
    "    transforms.Normalize((0.5070754 , 0.48655024, 0.44091907), (0.26733398, 0.25643876, 0.2761503))\n",
    "])"
   ]
  },
  {
   "cell_type": "code",
   "execution_count": 6,
   "metadata": {},
   "outputs": [
    {
     "name": "stdout",
     "output_type": "stream",
     "text": [
      "Files already downloaded and verified\n",
      "Files already downloaded and verified\n"
     ]
    }
   ],
   "source": [
    "trainset = torchvision.datasets.CIFAR100(\n",
    "    root='../data', train=True, download=True, transform=transform_train)\n",
    "testset = torchvision.datasets.CIFAR100(\n",
    "    root='../data', train=False, download=True, transform=transform_test)"
   ]
  },
  {
   "cell_type": "code",
   "execution_count": 7,
   "metadata": {},
   "outputs": [],
   "source": [
    "num_train = trainset.__len__()\n",
    "num_test = testset.__len__()\n",
    "bs_train = 1024\n",
    "bs_test = 2048"
   ]
  },
  {
   "cell_type": "code",
   "execution_count": 8,
   "metadata": {},
   "outputs": [],
   "source": [
    "trainloader = torch.utils.data.DataLoader(\n",
    "    trainset, batch_size=bs_train, shuffle=True, num_workers=4, pin_memory=True)\n",
    "testloader = torch.utils.data.DataLoader(\n",
    "    testset, batch_size=bs_test, shuffle=True, num_workers=4, pin_memory=True)"
   ]
  },
  {
   "cell_type": "markdown",
   "metadata": {},
   "source": [
    "# Training"
   ]
  },
  {
   "cell_type": "code",
   "execution_count": 9,
   "metadata": {},
   "outputs": [],
   "source": [
    "device = 'cuda' if torch.cuda.is_available() else 'cpu'"
   ]
  },
  {
   "cell_type": "code",
   "execution_count": 10,
   "metadata": {},
   "outputs": [],
   "source": [
    "net = ResNet18(64, 100)\n",
    "net = net.to(device)\n",
    "if device == 'cuda':\n",
    "    net = torch.nn.DataParallel(net)\n",
    "    cudnn.benchmark = True"
   ]
  },
  {
   "cell_type": "code",
   "execution_count": 23,
   "metadata": {},
   "outputs": [],
   "source": [
    "epochs=50\n",
    "criterion = nn.CrossEntropyLoss()\n",
    "\n",
    "# SGD\n",
    "# optimizer = optim.SGD(net.parameters(), lr=0.08, momentum=0.9, weight_decay=1e-4, nesterov=True)\n",
    "# scheduler = OptimOneCycleLR(optimizer, 0.1, 1., 0.001,\n",
    "#                             epochs, len(trainloader), 0.2, 0.4)\n",
    "\n",
    "# AdamW\n",
    "optimizer = torch.optim.AdamW(net.parameters(), lr=0.001, betas=[0.9, 0.999], eps=1e-08, weight_decay=1e-4, amsgrad=False)\n",
    "scheduler = OptimOneCycleLR(optimizer, 1e-3, 1e-2, 1e-5,\n",
    "                            epochs, len(trainloader), 0.1, 0.5, 0.2, 0.1)"
   ]
  },
  {
   "cell_type": "code",
   "execution_count": 24,
   "metadata": {},
   "outputs": [
    {
     "data": {
      "text/plain": [
       "[<matplotlib.lines.Line2D at 0x7f9c378cb0b8>]"
      ]
     },
     "execution_count": 24,
     "metadata": {},
     "output_type": "execute_result"
    },
    {
     "data": {
      "image/png": "[encoded data removed]",
      "text/plain": [
       "<Figure size 432x288 with 1 Axes>"
      ]
     },
     "metadata": {
      "needs_background": "light"
     },
     "output_type": "display_data"
    },
    {
     "data": {
      "image/png": "[encoded data removed]",
      "text/plain": [
       "<Figure size 432x288 with 1 Axes>"
      ]
     },
     "metadata": {
      "needs_background": "light"
     },
     "output_type": "display_data"
    }
   ],
   "source": [
    "lr = []\n",
    "mtm = []\n",
    "for i in range(epochs*len(trainloader)):\n",
    "    a, b = scheduler.step()\n",
    "    lr.append(a)\n",
    "    mtm.append(b)\n",
    "    \n",
    "plt.figure(1)\n",
    "plt.plot(lr)\n",
    "plt.figure(2)\n",
    "plt.plot(mtm)"
   ]
  },
  {
   "cell_type": "code",
   "execution_count": null,
   "metadata": {},
   "outputs": [],
   "source": [
    "# x, y = next(iter(trainloader))\n",
    "# x, y = x.to(device), y.to(device)\n",
    "\n",
    "# epochs = 100\n",
    "# optimizer = torch.optim.AdamW(net.parameters(), lr=0.001, betas=[0.9, 0.999], eps=1e-08, weight_decay=1e-4, amsgrad=False)\n",
    "# scheduler = OptimOneCycleLR(optimizer, 1e-3, 1e-2, 1e-5,\n",
    "#                             epochs, 1, 0.2, 0.4)\n",
    "\n",
    "# print(f\"Begin Training for {epochs} epoch\")\n",
    "\n",
    "# for epoch in range(1, epochs + 1):\n",
    "#     train_loss = 0\n",
    "#     train_correct = 0\n",
    "#     train_total = 0\n",
    "    \n",
    "#     net.train()\n",
    "        \n",
    "#     pred = net(x)\n",
    "#     loss = criterion(pred, y)\n",
    "\n",
    "#     optimizer.zero_grad()\n",
    "#     loss.backward()\n",
    "#     optimizer.step()\n",
    "#     scheduler.step()\n",
    "\n",
    "#     preds = torch.argmax(pred, dim=1)\n",
    "#     train_loss += loss.item()\n",
    "#     train_correct += (preds == y).sum().item()\n",
    "#     train_total += y.size(0)\n",
    "\n",
    "#     print(f'Epoch: {epoch} || train_loss: {train_loss / ((num_train - 1) // bs_train + 1):.5f} || train_acc : {train_correct / train_total:.5f}')"
   ]
  },
  {
   "cell_type": "code",
   "execution_count": null,
   "metadata": {},
   "outputs": [],
   "source": [
    "print(f\"Begin Training for {epochs} epoch\")\n",
    "test_best_acc = 1000.\n",
    "for epoch in range(1, epochs + 1):\n",
    "    train_loss = 0\n",
    "    train_correct = 0\n",
    "    train_total = 0\n",
    "    \n",
    "    net.train()\n",
    "    for i, (x, y) in enumerate(trainloader):\n",
    "        x, y = x.to(device), y.to(device)\n",
    "        \n",
    "        pred = net(x)\n",
    "        loss = criterion(pred, y)\n",
    "\n",
    "        optimizer.zero_grad()\n",
    "        loss.backward()\n",
    "        optimizer.step()\n",
    "        scheduler.step()\n",
    "\n",
    "        preds = torch.argmax(pred, dim=1)\n",
    "        train_loss += loss.item()\n",
    "        train_correct += (preds == y).sum().item()\n",
    "        train_total += y.size(0)\n",
    "        \n",
    "    test_loss = 0\n",
    "    test_correct = 0\n",
    "    test_total = 0\n",
    "    \n",
    "    net.eval()\n",
    "    for x, y in testloader:\n",
    "        x = x.to(device)\n",
    "        y = y.to(device)\n",
    "\n",
    "        with torch.no_grad():\n",
    "            pred = net(x)\n",
    "            loss = criterion(pred, y)\n",
    "\n",
    "            preds = torch.argmax(pred, dim=1)\n",
    "            test_loss += loss.item()\n",
    "            test_correct += (preds == y).sum().item()\n",
    "            test_total += y.size(0)\n",
    "\n",
    "    print(f'Epoch: {epoch} || train_loss: {train_loss / ((num_train - 1) // bs_train + 1):.5f} || train_acc : {train_correct / train_total:.5f} || test_loss: {test_loss / ((num_test - 1) // bs_test + 1):.5f} || test_acc : {test_correct / test_total:.5f} ')\n",
    "    \n",
    "    if test_best_acc > test_correct / test_total:\n",
    "        torch.save(net.state_dict(), 'models/CIFAR100/ResNet18/model.pt')\n",
    "        \n",
    "torch.save({\n",
    "            'epoch': epoch,\n",
    "            'model_state_dict': net.state_dict(),\n",
    "            'optimizer_state_dict': optimizer.state_dict(),\n",
    "            'loss': train_loss / ((num_train - 1) // bs_train + 1),\n",
    "            }, \"models/CIFAR100/ResNet18/last_checkpoints.pt\")"
   ]
  },
  {
   "cell_type": "code",
   "execution_count": null,
   "metadata": {},
   "outputs": [],
   "source": [
    " "
   ]
  }
 ],
 "metadata": {
  "kernelspec": {
   "display_name": "Python 3",
   "language": "python",
   "name": "python3"
  },
  "language_info": {
   "codemirror_mode": {
    "name": "ipython",
    "version": 3
   },
   "file_extension": ".py",
   "mimetype": "text/x-python",
   "name": "python",
   "nbconvert_exporter": "python",
   "pygments_lexer": "ipython3",
   "version": "3.6.8"
  }
 },
 "nbformat": 4,
 "nbformat_minor": 4
}
